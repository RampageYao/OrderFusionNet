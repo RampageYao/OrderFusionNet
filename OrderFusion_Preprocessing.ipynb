{
 "cells": [
  {
   "cell_type": "markdown",
   "metadata": {},
   "source": [
    "# Preprocessing raw orderbook\n",
    "\n",
    "[!] Run each block in sequence if not specified\n"
   ]
  },
  {
   "cell_type": "code",
   "execution_count": null,
   "metadata": {},
   "outputs": [],
   "source": [
    "from OrderFusion_Preprocessing import *"
   ]
  },
  {
   "cell_type": "markdown",
   "metadata": {},
   "source": [
    "# Filter matched orders\n",
    "\n",
    "[!] needed for OrderFusionNet"
   ]
  },
  {
   "cell_type": "code",
   "execution_count": null,
   "metadata": {},
   "outputs": [],
   "source": [
    "countries = ['austria', 'germany']\n",
    "years = [2022, 2023, 2024]\n",
    "\n",
    "for country in countries:\n",
    "    for year in years:\n",
    "        print(f'{country}, {year}')\n",
    "        filter_raw_data(country, year)"
   ]
  },
  {
   "cell_type": "markdown",
   "metadata": {},
   "source": [
    "# Merge filtered orders\n",
    "\n",
    "[!] needed for OrderFusionNet"
   ]
  },
  {
   "cell_type": "code",
   "execution_count": null,
   "metadata": {},
   "outputs": [
    {
     "name": "stdout",
     "output_type": "stream",
     "text": [
      "austria, h\n",
      "austria, qh\n",
      "germany, h\n",
      "germany, qh\n"
     ]
    }
   ],
   "source": [
    "prepath = 'EPEX_Spot_Orderbook/'\n",
    "countries = ['austria', 'germany']\n",
    "resolutions = ['h', 'qh']\n",
    "\n",
    "for country in countries:\n",
    "    for resolution in resolutions:\n",
    "        print(f'{country}, {resolution}')\n",
    "        merge_filtered_data(resolution, country, prepath)"
   ]
  },
  {
   "cell_type": "markdown",
   "metadata": {},
   "source": [
    "# Extract features \n",
    "\n",
    "[!] only use for benchmark, not needed for OrderFusionNet"
   ]
  },
  {
   "cell_type": "code",
   "execution_count": 2,
   "metadata": {},
   "outputs": [
    {
     "name": "stdout",
     "output_type": "stream",
     "text": [
      "austria, h, ID1\n"
     ]
    },
    {
     "name": "stderr",
     "output_type": "stream",
     "text": [
      "Processing groups: 100%|██████████| 26301/26301 [01:08<00:00, 383.11group/s, Processing date: 2024-12-31 22:00:00+00:00]\n"
     ]
    },
    {
     "name": "stdout",
     "output_type": "stream",
     "text": [
      "austria, h, ID2\n"
     ]
    },
    {
     "name": "stderr",
     "output_type": "stream",
     "text": [
      "Processing groups: 100%|██████████| 26301/26301 [01:07<00:00, 391.13group/s, Processing date: 2024-12-31 22:00:00+00:00]\n"
     ]
    },
    {
     "name": "stdout",
     "output_type": "stream",
     "text": [
      "austria, h, ID3\n"
     ]
    },
    {
     "name": "stderr",
     "output_type": "stream",
     "text": [
      "Processing groups: 100%|██████████| 26301/26301 [01:06<00:00, 397.03group/s, Processing date: 2024-12-31 22:00:00+00:00]\n"
     ]
    },
    {
     "name": "stdout",
     "output_type": "stream",
     "text": [
      "germany, h, ID1\n"
     ]
    },
    {
     "name": "stderr",
     "output_type": "stream",
     "text": [
      "Processing groups: 100%|██████████| 26304/26304 [01:38<00:00, 266.14group/s, Processing date: 2024-12-31 22:00:00+00:00]\n"
     ]
    },
    {
     "name": "stdout",
     "output_type": "stream",
     "text": [
      "germany, h, ID2\n"
     ]
    },
    {
     "name": "stderr",
     "output_type": "stream",
     "text": [
      "Processing groups: 100%|██████████| 26304/26304 [01:30<00:00, 289.52group/s, Processing date: 2024-12-31 22:00:00+00:00]\n"
     ]
    },
    {
     "name": "stdout",
     "output_type": "stream",
     "text": [
      "germany, h, ID3\n"
     ]
    },
    {
     "name": "stderr",
     "output_type": "stream",
     "text": [
      "Processing groups: 100%|██████████| 26304/26304 [01:26<00:00, 303.15group/s, Processing date: 2024-12-31 22:00:00+00:00]\n"
     ]
    }
   ],
   "source": [
    "countries = ['austria', 'germany']\n",
    "resolutions = ['h']\n",
    "indices = ['ID1', 'ID2', 'ID3']\n",
    "side = False\n",
    "\n",
    "for country in countries:\n",
    "    for resolution in resolutions:\n",
    "        for indice in indices:\n",
    "            print(f'{country}, {resolution}, {indice}')\n",
    "            execute_feature_extraction(resolution, country, indice, side)"
   ]
  },
  {
   "cell_type": "markdown",
   "metadata": {},
   "source": [
    "# Extract sequences\n",
    "\n",
    "[!] needed for OrderFusionNet"
   ]
  },
  {
   "cell_type": "code",
   "execution_count": null,
   "metadata": {},
   "outputs": [
    {
     "name": "stdout",
     "output_type": "stream",
     "text": [
      "austria, h, ID1\n"
     ]
    },
    {
     "name": "stderr",
     "output_type": "stream",
     "text": [
      "Extracting sequences: 100%|██████████| 26301/26301 [00:26<00:00, 1009.97group/s, Processing date: 2024-12-31 22:00:00+00:00]\n",
      "Extracting sequences: 100%|██████████| 26298/26298 [00:25<00:00, 1024.57group/s, Processing date: 2024-12-31 22:00:00+00:00]\n"
     ]
    },
    {
     "name": "stdout",
     "output_type": "stream",
     "text": [
      "austria, h, ID2\n"
     ]
    },
    {
     "name": "stderr",
     "output_type": "stream",
     "text": [
      "Extracting sequences: 100%|██████████| 26301/26301 [00:24<00:00, 1084.62group/s, Processing date: 2024-12-31 22:00:00+00:00]\n",
      "Extracting sequences: 100%|██████████| 26298/26298 [00:24<00:00, 1053.37group/s, Processing date: 2024-12-31 22:00:00+00:00]\n"
     ]
    },
    {
     "name": "stdout",
     "output_type": "stream",
     "text": [
      "austria, h, ID3\n"
     ]
    },
    {
     "name": "stderr",
     "output_type": "stream",
     "text": [
      "Extracting sequences: 100%|██████████| 26301/26301 [00:23<00:00, 1116.69group/s, Processing date: 2024-12-31 22:00:00+00:00]\n",
      "Extracting sequences: 100%|██████████| 26298/26298 [00:23<00:00, 1098.96group/s, Processing date: 2024-12-31 22:00:00+00:00]\n"
     ]
    },
    {
     "name": "stdout",
     "output_type": "stream",
     "text": [
      "austria, qh, ID1\n"
     ]
    },
    {
     "name": "stderr",
     "output_type": "stream",
     "text": [
      "Extracting sequences: 100%|██████████| 105191/105191 [01:41<00:00, 1035.72group/s, Processing date: 2024-12-31 22:45:00+00:00]\n",
      "Extracting sequences: 100%|██████████| 105195/105195 [01:43<00:00, 1011.88group/s, Processing date: 2024-12-31 22:45:00+00:00]\n"
     ]
    },
    {
     "name": "stdout",
     "output_type": "stream",
     "text": [
      "austria, qh, ID2\n"
     ]
    },
    {
     "name": "stderr",
     "output_type": "stream",
     "text": [
      "Extracting sequences: 100%|██████████| 105191/105191 [01:37<00:00, 1074.28group/s, Processing date: 2024-12-31 22:45:00+00:00]\n",
      "Extracting sequences: 100%|██████████| 105195/105195 [01:40<00:00, 1048.94group/s, Processing date: 2024-12-31 22:45:00+00:00]\n"
     ]
    },
    {
     "name": "stdout",
     "output_type": "stream",
     "text": [
      "austria, qh, ID3\n"
     ]
    },
    {
     "name": "stderr",
     "output_type": "stream",
     "text": [
      "Extracting sequences: 100%|██████████| 105191/105191 [01:37<00:00, 1074.64group/s, Processing date: 2024-12-31 22:45:00+00:00]\n",
      "Extracting sequences: 100%|██████████| 105195/105195 [01:38<00:00, 1072.70group/s, Processing date: 2024-12-31 22:45:00+00:00]\n"
     ]
    },
    {
     "name": "stdout",
     "output_type": "stream",
     "text": [
      "germany, h, ID1\n"
     ]
    },
    {
     "name": "stderr",
     "output_type": "stream",
     "text": [
      "Extracting sequences: 100%|██████████| 26304/26304 [00:36<00:00, 721.25group/s, Processing date: 2024-12-31 22:00:00+00:00]\n",
      "Extracting sequences: 100%|██████████| 26304/26304 [00:38<00:00, 686.81group/s, Processing date: 2024-12-31 22:00:00+00:00]\n"
     ]
    },
    {
     "name": "stdout",
     "output_type": "stream",
     "text": [
      "germany, h, ID2\n"
     ]
    },
    {
     "name": "stderr",
     "output_type": "stream",
     "text": [
      "Extracting sequences: 100%|██████████| 26304/26304 [00:36<00:00, 711.48group/s, Processing date: 2024-12-31 22:00:00+00:00]\n",
      "Extracting sequences: 100%|██████████| 26304/26304 [00:34<00:00, 756.43group/s, Processing date: 2024-12-31 22:00:00+00:00]\n"
     ]
    },
    {
     "name": "stdout",
     "output_type": "stream",
     "text": [
      "germany, h, ID3\n"
     ]
    },
    {
     "name": "stderr",
     "output_type": "stream",
     "text": [
      "Extracting sequences: 100%|██████████| 26304/26304 [00:36<00:00, 711.80group/s, Processing date: 2024-12-31 22:00:00+00:00] \n",
      "Extracting sequences: 100%|██████████| 26304/26304 [00:34<00:00, 772.36group/s, Processing date: 2024-12-31 22:00:00+00:00] \n"
     ]
    },
    {
     "name": "stdout",
     "output_type": "stream",
     "text": [
      "germany, qh, ID1\n"
     ]
    },
    {
     "name": "stderr",
     "output_type": "stream",
     "text": [
      "Extracting sequences: 100%|██████████| 105216/105216 [05:58<00:00, 293.85group/s, Processing date: 2024-12-31 22:45:00+00:00]\n",
      "Extracting sequences: 100%|██████████| 105216/105216 [04:35<00:00, 382.20group/s, Processing date: 2024-12-31 22:45:00+00:00]\n"
     ]
    },
    {
     "name": "stdout",
     "output_type": "stream",
     "text": [
      "germany, qh, ID2\n"
     ]
    },
    {
     "name": "stderr",
     "output_type": "stream",
     "text": [
      "Extracting sequences: 100%|██████████| 105216/105216 [04:16<00:00, 410.37group/s, Processing date: 2024-12-31 22:45:00+00:00]\n",
      "Extracting sequences: 100%|██████████| 105216/105216 [04:04<00:00, 430.43group/s, Processing date: 2024-12-31 22:45:00+00:00]\n"
     ]
    },
    {
     "name": "stdout",
     "output_type": "stream",
     "text": [
      "germany, qh, ID3\n"
     ]
    },
    {
     "name": "stderr",
     "output_type": "stream",
     "text": [
      "Extracting sequences: 100%|██████████| 105216/105216 [04:38<00:00, 377.66group/s, Processing date: 2024-12-31 22:45:00+00:00]\n",
      "Extracting sequences: 100%|██████████| 105216/105216 [04:10<00:00, 420.19group/s, Processing date: 2024-12-31 22:45:00+00:00]\n"
     ]
    }
   ],
   "source": [
    "countries = ['austria', 'germany']\n",
    "resolutions = ['h', 'qh']\n",
    "indices = ['ID1', 'ID2', 'ID3']\n",
    "side = True\n",
    "\n",
    "for country in countries:\n",
    "    for resolution in resolutions:\n",
    "        for indice in indices:\n",
    "            print(f'{country}, {resolution}, {indice}')\n",
    "            execute_sequence_extraction(resolution, country, indice, side)"
   ]
  },
  {
   "cell_type": "markdown",
   "metadata": {},
   "source": [
    "# Extract labels\n",
    "\n",
    "[!] needed for OrderFusionNet"
   ]
  },
  {
   "cell_type": "code",
   "execution_count": null,
   "metadata": {},
   "outputs": [
    {
     "name": "stdout",
     "output_type": "stream",
     "text": [
      "austria, h, ID1\n"
     ]
    },
    {
     "name": "stderr",
     "output_type": "stream",
     "text": [
      "Extracting labels: 100%|██████████| 26301/26301 [00:08<00:00, 3250.88group/s]\n"
     ]
    },
    {
     "name": "stdout",
     "output_type": "stream",
     "text": [
      "austria, h, ID2\n"
     ]
    },
    {
     "name": "stderr",
     "output_type": "stream",
     "text": [
      "Extracting labels: 100%|██████████| 26301/26301 [00:08<00:00, 3104.99group/s]\n"
     ]
    },
    {
     "name": "stdout",
     "output_type": "stream",
     "text": [
      "austria, h, ID3\n"
     ]
    },
    {
     "name": "stderr",
     "output_type": "stream",
     "text": [
      "Extracting labels: 100%|██████████| 26301/26301 [00:08<00:00, 3090.38group/s]\n"
     ]
    },
    {
     "name": "stdout",
     "output_type": "stream",
     "text": [
      "austria, qh, ID1\n"
     ]
    },
    {
     "name": "stderr",
     "output_type": "stream",
     "text": [
      "Extracting labels: 100%|██████████| 105199/105199 [00:33<00:00, 3186.17group/s]\n"
     ]
    },
    {
     "name": "stdout",
     "output_type": "stream",
     "text": [
      "austria, qh, ID2\n"
     ]
    },
    {
     "name": "stderr",
     "output_type": "stream",
     "text": [
      "Extracting labels: 100%|██████████| 105199/105199 [00:33<00:00, 3146.98group/s]\n"
     ]
    },
    {
     "name": "stdout",
     "output_type": "stream",
     "text": [
      "austria, qh, ID3\n"
     ]
    },
    {
     "name": "stderr",
     "output_type": "stream",
     "text": [
      "Extracting labels: 100%|██████████| 105199/105199 [00:33<00:00, 3116.08group/s]\n"
     ]
    },
    {
     "name": "stdout",
     "output_type": "stream",
     "text": [
      "germany, h, ID1\n"
     ]
    },
    {
     "name": "stderr",
     "output_type": "stream",
     "text": [
      "Extracting labels: 100%|██████████| 26304/26304 [00:21<00:00, 1206.56group/s]\n"
     ]
    },
    {
     "name": "stdout",
     "output_type": "stream",
     "text": [
      "germany, h, ID2\n"
     ]
    },
    {
     "name": "stderr",
     "output_type": "stream",
     "text": [
      "Extracting labels: 100%|██████████| 26304/26304 [00:26<00:00, 995.75group/s] \n"
     ]
    },
    {
     "name": "stdout",
     "output_type": "stream",
     "text": [
      "germany, h, ID3\n"
     ]
    },
    {
     "name": "stderr",
     "output_type": "stream",
     "text": [
      "Extracting labels: 100%|██████████| 26304/26304 [00:28<00:00, 914.09group/s] \n"
     ]
    },
    {
     "name": "stdout",
     "output_type": "stream",
     "text": [
      "germany, qh, ID1\n"
     ]
    },
    {
     "name": "stderr",
     "output_type": "stream",
     "text": [
      "Extracting labels: 100%|██████████| 105216/105216 [04:03<00:00, 432.29group/s] \n"
     ]
    },
    {
     "name": "stdout",
     "output_type": "stream",
     "text": [
      "germany, qh, ID2\n"
     ]
    },
    {
     "name": "stderr",
     "output_type": "stream",
     "text": [
      "Extracting labels: 100%|██████████| 105216/105216 [03:50<00:00, 456.78group/s]\n"
     ]
    },
    {
     "name": "stdout",
     "output_type": "stream",
     "text": [
      "germany, qh, ID3\n"
     ]
    },
    {
     "name": "stderr",
     "output_type": "stream",
     "text": [
      "Extracting labels: 100%|██████████| 105216/105216 [03:44<00:00, 468.58group/s]\n"
     ]
    }
   ],
   "source": [
    "countries = ['austria', 'germany']\n",
    "resolutions = ['h', 'qh']\n",
    "indices = ['ID1', 'ID2', 'ID3']\n",
    "side = False\n",
    "\n",
    "for country in countries:\n",
    "    for resolution in resolutions:\n",
    "        for indice in indices:\n",
    "            print(f'{country}, {resolution}, {indice}')\n",
    "            execute_label_extraction(resolution, country, indice, side)"
   ]
  },
  {
   "cell_type": "markdown",
   "metadata": {},
   "source": [
    "# Get price scaler\n",
    "\n",
    "[!] needed for OrderFusionNet\n",
    "\n",
    "[!] remember to only set start & end date for training data to ensure no data leakage"
   ]
  },
  {
   "cell_type": "code",
   "execution_count": null,
   "metadata": {},
   "outputs": [],
   "source": [
    "train_start_date = '2022-01-01'\n",
    "train_end_date = '2024-01-01'\n",
    "\n",
    "countries = ['austria', 'germany']\n",
    "resolutions = ['h', 'qh']\n",
    "\n",
    "for country in countries:\n",
    "    for resolution in resolutions:\n",
    "        fit_and_save_price_scaler(country, resolution, train_start_date, train_end_date)"
   ]
  }
 ],
 "metadata": {
  "kernelspec": {
   "display_name": "runyao",
   "language": "python",
   "name": "python3"
  },
  "language_info": {
   "codemirror_mode": {
    "name": "ipython",
    "version": 3
   },
   "file_extension": ".py",
   "mimetype": "text/x-python",
   "name": "python",
   "nbconvert_exporter": "python",
   "pygments_lexer": "ipython3",
   "version": "3.9.22"
  }
 },
 "nbformat": 4,
 "nbformat_minor": 2
}
