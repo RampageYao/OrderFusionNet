{
 "cells": [
  {
   "cell_type": "markdown",
   "metadata": {
    "id": "UugMeD0m-a0d"
   },
   "source": [
    "# Modeling the Orderbook for Probabilistic Prediction\n",
    "\n",
    "[!] Define below setups, use recommended hyperparameters"
   ]
  },
  {
   "cell_type": "code",
   "execution_count": 11,
   "metadata": {},
   "outputs": [],
   "source": [
    "from OrderFusion_Modeling import *\n",
    "\n",
    "save_path = train_status('local') # 'local' if run locally or 'cloud' run on Google Colab\n",
    "countries = ['germany'] # countries, 'austria' or 'germany'\n",
    "resolutions = ['h'] # data resolution, 'h' for hourly, 'qh' for quarter-hourly\n",
    "indices = ['ID3'] # target indices, 'ID3', 'ID2', or 'ID1'\n",
    "\n",
    "train_start_date = '2022-01-01' # start date for training data\n",
    "split_len = (24, 6, 6) # 24 months for training, 6 months for validation, 6 months for testing\n",
    "quantiles = [0.1, 0.25, 0.45, 0.5, 0.55, 0.75, 0.9] # target quantiles to be predicted\n",
    "\n",
    "seeds = [42] # random seeds, default is 1\n",
    "model_shapes = [[64, 2]] # recommended shapes is [64, 2] (hidden_dimension and number of blocks)\n",
    "epoch, batch_size = 50, 1024 # recommended number of epochs and batch size are 50 and 1024 respectively\n",
    "\n",
    "points = [4] # T_max / number of trades in the input sequence\n",
    "''' recommended values for T_max are:\n",
    "    64 for ID1 and ID2, and 4 for ID3\n",
    "'''\n",
    "\n",
    "decay_strength = 2 # decay strength for the binary masking\n",
    "''' recommended values for decay_strength are:\n",
    "    6 for ID1 and ID2, and 2 for ID3\n",
    "'''\n",
    "\n",
    "target_model = 'OrderFusion'\n",
    "\n",
    "# configuration\n",
    "data_config = (countries, resolutions, indices, save_path, split_len, train_start_date)\n",
    "model_config = (target_model, model_shapes, epoch, batch_size, points, quantiles, seeds, decay_strength)"
   ]
  },
  {
   "cell_type": "markdown",
   "metadata": {},
   "source": [
    "After defining above setups, just by runing the below block\n",
    "\n",
    "Note that:\n",
    "- This produces the model called 'OrderFusion.keras' in the 'Model' subfolder\n",
    "- different random seed introduces slightly variance\n",
    "- Please use the recommended hyperparameters from the previous block\n"
   ]
  },
  {
   "cell_type": "code",
   "execution_count": 12,
   "metadata": {},
   "outputs": [
    {
     "name": "stdout",
     "output_type": "stream",
     "text": [
      "('germany', 'h', 'ID3') | point=4 | OrderFusion | model_shape: [64, 2] | seed: 42\n",
      "paras: 162183\n",
      "\u001b[1m138/138\u001b[0m \u001b[32m━━━━━━━━━━━━━━━━━━━━\u001b[0m\u001b[37m\u001b[0m \u001b[1m3s\u001b[0m 17ms/step\n",
      "AQL: 3.73, AQCR: 0.0, RMSE: 24.12, MAE: 8.94, R2: 0.88, Inference time: 3.14043927192688s \n",
      "\n"
     ]
    }
   ],
   "source": [
    "# execute experiments\n",
    "execute_main(data_config, model_config)"
   ]
  },
  {
   "cell_type": "markdown",
   "metadata": {},
   "source": [
    "You can load the trained model by runnng the below block"
   ]
  },
  {
   "cell_type": "code",
   "execution_count": 5,
   "metadata": {},
   "outputs": [
    {
     "name": "stdout",
     "output_type": "stream",
     "text": [
      "OrderFusion model successfully loaded\n"
     ]
    }
   ],
   "source": [
    "custom_objects = {f'{name}_label': quantile_loss(q, name) for name, q in {f'q{q:02}': q / 100 for q in [int(q * 100) for q in quantiles]}.items()}\n",
    "checkpoint_path = os.path.join(f\"{save_path}Model\", f\"{target_model}.keras\")\n",
    "\n",
    "with custom_object_scope(custom_objects):\n",
    "    best_model = load_model(checkpoint_path, custom_objects=custom_objects)\n",
    "    print(f\"{target_model} model successfully loaded\")"
   ]
  }
 ],
 "metadata": {
  "accelerator": "GPU",
  "colab": {
   "gpuType": "A100",
   "machine_shape": "hm",
   "provenance": []
  },
  "kernelspec": {
   "display_name": "base",
   "language": "python",
   "name": "python3"
  },
  "language_info": {
   "codemirror_mode": {
    "name": "ipython",
    "version": 3
   },
   "file_extension": ".py",
   "mimetype": "text/x-python",
   "name": "python",
   "nbconvert_exporter": "python",
   "pygments_lexer": "ipython3",
   "version": "3.10.15"
  }
 },
 "nbformat": 4,
 "nbformat_minor": 0
}
